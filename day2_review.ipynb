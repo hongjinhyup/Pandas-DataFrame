{
  "nbformat": 4,
  "nbformat_minor": 0,
  "metadata": {
    "colab": {
      "name": "day2_review.ipynb",
      "provenance": [],
      "collapsed_sections": [],
      "authorship_tag": "ABX9TyNDDqGgT5TByv2M62GAlUTD",
      "include_colab_link": true
    },
    "kernelspec": {
      "name": "python3",
      "display_name": "Python 3"
    },
    "language_info": {
      "name": "python"
    }
  },
  "cells": [
    {
      "cell_type": "markdown",
      "metadata": {
        "id": "view-in-github",
        "colab_type": "text"
      },
      "source": [
        "<a href=\"https://colab.research.google.com/github/hongjinhyup/Pandas-DataFrame/blob/main/day2_review.ipynb\" target=\"_parent\"><img src=\"https://colab.research.google.com/assets/colab-badge.svg\" alt=\"Open In Colab\"/></a>"
      ]
    },
    {
      "cell_type": "markdown",
      "source": [
        "# 분산과 표준편차 구하기\n",
        "- 표준편차: 분산에 루트를 씌워서 구한다."
      ],
      "metadata": {
        "id": "fEWJ0D-zsvf9"
      }
    },
    {
      "cell_type": "code",
      "execution_count": null,
      "metadata": {
        "colab": {
          "base_uri": "https://localhost:8080/"
        },
        "id": "iwrPX_mVsMMu",
        "outputId": "e0a6dfd1-d17c-49f3-af20-2b19ec4925e4"
      },
      "outputs": [
        {
          "output_type": "stream",
          "name": "stdout",
          "text": [
            "70\n"
          ]
        }
      ],
      "source": [
        "# 평균 = 모든원소 합 / 원소 총 개수\n",
        "ls1 = [71,68,67,74]\n",
        "avr = sum(ls1[:]) / len(ls1)  # \n",
        "print(int(a))"
      ]
    },
    {
      "cell_type": "code",
      "source": [
        "# 편차 = (원소) - (평균)\n",
        "ls2 = []\n",
        "for i in range(len(ls1)):\n",
        "  ls2.append(ls1[i] - avr)\n",
        "print(ls2)"
      ],
      "metadata": {
        "colab": {
          "base_uri": "https://localhost:8080/"
        },
        "id": "gQeG9utssiTe",
        "outputId": "0183443b-c44d-4d07-eede-ba1c0118044d"
      },
      "execution_count": null,
      "outputs": [
        {
          "output_type": "stream",
          "name": "stdout",
          "text": [
            "[1.0, -2.0, -3.0, 4.0]\n"
          ]
        }
      ]
    },
    {
      "cell_type": "code",
      "source": [
        "# 분산 = 편차 제곱의 평균\n",
        "ls3 = []\n",
        "for i in range(len(ls2)):\n",
        "  ls3.append(ls2[i]**2)\n",
        "ls4 = sum(ls3[:]) / len(ls3)  # ls4: 분산\n",
        "print(ls4)"
      ],
      "metadata": {
        "colab": {
          "base_uri": "https://localhost:8080/"
        },
        "id": "XtJ4z1AJt9SN",
        "outputId": "a72aeb65-cf6c-4ef1-f12b-e7b58bfa90f0"
      },
      "execution_count": null,
      "outputs": [
        {
          "output_type": "stream",
          "name": "stdout",
          "text": [
            "7.5\n"
          ]
        }
      ]
    },
    {
      "cell_type": "code",
      "source": [
        "# 표준편차의 4제곱 = 분산의 제곱\n",
        "ls5 = ls4 ** (1/2)\n",
        "print(ls5)\n",
        "\n",
        "import math # math 라이브러리 활용\n",
        "ls6 = math.sqrt(ls4)\n",
        "print(ls6)"
      ],
      "metadata": {
        "colab": {
          "base_uri": "https://localhost:8080/"
        },
        "id": "m2vDmDqgu_FX",
        "outputId": "10289c2f-b508-45e9-c041-b57c5b8de2b2"
      },
      "execution_count": null,
      "outputs": [
        {
          "output_type": "stream",
          "name": "stdout",
          "text": [
            "2.7386127875258306\n",
            "2.7386127875258306\n"
          ]
        }
      ]
    },
    {
      "cell_type": "code",
      "source": [
        ""
      ],
      "metadata": {
        "id": "YT_RY4-zznbb"
      },
      "execution_count": null,
      "outputs": []
    }
  ]
}