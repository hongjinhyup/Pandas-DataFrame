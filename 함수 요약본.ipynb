{
 "cells": [
  {
   "cell_type": "markdown",
   "id": "6f9c1599-cbb7-4c0d-b377-e0e1e7a4586c",
   "metadata": {
    "jp-MarkdownHeadingCollapsed": true,
    "tags": []
   },
   "source": [
    "# 데이터 분석 기초(요약본)\n",
    "* pandas라는 library를 사용\n",
    "* column의 종류 확인\n",
    "* 행(row)의 범위를 확인\n",
    "* 전체 data 중 상위 5개\n",
    "* 아래 하위 5개\n",
    "* missing data 판별하는 함수 isnull\n",
    "    * False면 missing data가 아니고 True면 missing data이다.\n",
    "    * 각 항목별로 missing data가 몇개인지 파악할 수 있다.\n",
    "* data Frame의 형태가 아닌 Series 형태로 나타낸다.\n",
    "* 연속형 데이터 5 Number Summary\n",
    "* 전체 data의 요약\n",
    "* 다양한 columns의 리스트 형태\n",
    "* 0번쨰 데이터를 불러오기\n",
    "* 특정 범위의 데이터 추출하기\n",
    "* 100번쨰부터 끝까지 데이터 추출하기\n"
   ]
  },
  {
   "cell_type": "markdown",
   "id": "c1016e8b-aae3-4011-a72d-369ffb4ea1a6",
   "metadata": {
    "tags": []
   },
   "source": [
    "#### pandas라는 library를 사용하자.\n",
    " - DataFrame은 Column / Index / Value 로 구성된다.\n",
    " - import pandas as pd\n",
    "\n",
    "#### column의 종류 확인\n",
    " - df1.columns\n",
    "\n",
    "#### 행(row)의 범위를 알 수 있다.\n",
    " - df1.index\n",
    "\n",
    "#### df1.values\n",
    "\n",
    "#### 전체 data 중 상위 5가지를 보여준다.\n",
    " - df1.head()\n",
    "\n",
    "#### 아래 하위 5개를 보여준다.\n",
    " - df1.tail()\n",
    "\n",
    "#### missing data 판별하는 함수 isnull\n",
    "#### False면 missing data가 아니고 True면 missing data이다.\n",
    " - df1.isnull()\n",
    "\n",
    "#### 각 항목별로 missing data가 몇개인지 파악할 수 있다.\n",
    " - df1.isnull().sum()\n",
    "\n",
    "#### data Frame의 형태가 아닌 Series 형태로 나타낸다.\n",
    " - df1['구매금액']\n",
    "\n",
    "#### 연속형 데이터 5 Number Summary\n",
    " - df1.describe()\n",
    "\n",
    "#### 전체 data의 요약\n",
    " - df1.info()\n",
    "\n",
    "#### df1['구매금액']\n",
    "\n",
    "#### 다양한 columns의 리스트 형태\n",
    " - df1[['구매금액','물품대분류','물품중분류']]\n",
    "\n",
    "#### 0번쨰 데이터를 불러온다.\n",
    " - df1.iloc[-1]\n",
    "\n",
    "#### 특정 범위의 데이터 추출하기\n",
    " - df1.iloc[0:11]\n",
    "\n",
    "#### 100번쨰부터 끝까지 데이터 추출하기\n",
    " - df2 = df1.iloc[100:]\n",
    " - df2.shape"
   ]
  },
  {
   "cell_type": "markdown",
   "id": "cff7dc40-06aa-4bbb-a7df-45813ec35921",
   "metadata": {
    "jp-MarkdownHeadingCollapsed": true,
    "tags": []
   },
   "source": [
    "# 데이터 정렬\n",
    "* 오름차순 정렬\n",
    "* 내림차순 정렬\n",
    "* 두개 이상의 열(columns)사용\n",
    "* 예시"
   ]
  },
  {
   "cell_type": "markdown",
   "id": "bbe56042-b55f-4eef-977c-61898d17f3f9",
   "metadata": {},
   "source": [
    "#### sort를 사용하면 오름차순 기준으로 정렬이 된다.\n",
    " - df1.sort_values(by='구매금액')\n",
    "\n",
    "\n",
    "#### 내림차순으로 정렬할떄 ascending=False를 사용한다.\n",
    " - df1.sort_values(by='구매금액', ascending=False)\n",
    "\n",
    "#### 두개 이상의 열(columns)을 사용할떄 대괄호 두개 사용\n",
    "(두개 이상의 컬럼을 쓸 경우 한개 쓰면 오류뜸)\n",
    " - df1.sort_values(by=['구매수량','연령'])\n",
    "\n",
    "#### 예시) .sort_values 함수를 이용해서 기준에 부합하는 vip 고객의 데이터를 추출 할 수 있다.\n",
    " - 예시) 구매수량은 낮으면서 연령은 높은 10명의 데이터 추출\n",
    " - df1.sort_values(by=['구매수량','연령'], ascending=[False,True]).iloc[:10]"
   ]
  },
  {
   "cell_type": "markdown",
   "id": "61c56665-93d9-4fb8-ad12-59f474a975ce",
   "metadata": {
    "jp-MarkdownHeadingCollapsed": true,
    "tags": []
   },
   "source": [
    "# 데이터 필터(특정 조건을 정해서)\n",
    "\n",
    "#### 연령대가 40대만 추출하기\n",
    " - (1) df1['연령대']=='40대'\n",
    " - (2) cond1 = (df1['연령대']=='40대')\n",
    " - (3) df1.loc[cond1]\n",
    "     - loc 함수를 통해서 특정 조건을 추출할 수 있다."
   ]
  },
  {
   "cell_type": "markdown",
   "id": "1b022f53-17f4-408b-af3f-3e5d36d8be6c",
   "metadata": {},
   "source": [
    "#### 연령대가 40대만 추출하기\n",
    "* df1['연령대'].value_counts()\n",
    "\n",
    "\n",
    "#### (1) 논리연산자로 데이터를 출력\n",
    "* df1['연령대']=='40대'\n",
    "\n",
    "\n",
    "#### (2) 논리연산자로 만들어둔 40대 데이터를 con1 이라는 변수선언을 해준다.\n",
    "* cond1 = (df1['연령대']=='40대')\n",
    "* df1.loc[cond1]\n",
    "\n",
    "\n",
    "#### shape 함수를 통해 데이터의 개수를 확인할 수 있다.\n",
    "* df1.loc[cond1].shape\n",
    "\n",
    "\n",
    "#### 연령이 40대이면서 성별이 남성인 데이터 추출하기\n",
    "* df1['성별'].value_counts()\n",
    "\n",
    "\n",
    "#### &(and)를 통해 연령대가 40대이면서 성별이 남성인(두 조건 모두 만족) 데이터 추출하기\n",
    "* cond1 = (df1['연령대']=='40대')\n",
    "* cond2 = (df1['성별']=='남')\n",
    "* df1.loc[cond1 & cond2]\n",
    "\n",
    "\n",
    "#### 연령대가 40대이거나 성별(하나의 조건만 만족하면 됨) 남성인 데이터 가져오기\n",
    "* cond1 = (df1['연령대']=='40대')\n",
    "* cond2 = (df1['성별']=='남')\n",
    "* df1.loc[cond1 | cond2]"
   ]
  },
  {
   "cell_type": "markdown",
   "id": "8217e6cc-44f3-435d-a94a-8256eef04743",
   "metadata": {
    "jp-MarkdownHeadingCollapsed": true,
    "tags": []
   },
   "source": [
    "# 마무리 연습\n",
    "* 30대이하이면서 여성이면서 구매금액이 높은 순서대로 정렬 (3개의 columns)\n",
    "* 파일로 저장"
   ]
  },
  {
   "cell_type": "markdown",
   "id": "2032de7e-ebf3-446e-a202-2cf530610604",
   "metadata": {},
   "source": [
    "cond11 = (df1['연령대'] == '30대이하')\n",
    "cond22 = (df1['성별'] == '여')\n",
    "\n",
    "df1[cond11 & cond22].sort_values(by='구매금액', ascending=False)\n",
    "\n",
    "#### 파일로 저장하기(1)\n",
    "* cond11 = (df1['연령대'] == '30대이하')\n",
    "* cond22 = (df1['성별'] == '여')\n",
    "\n",
    "* df3 = df1[cond11 & cond22].sort_values(by='구매금액', ascending=False)\n",
    "* df3.shape\n",
    "\n",
    "#### 파일 저장하기(2)\n",
    "* df3.to_csv('result2.csv')\n",
    "\n",
    "* 파일을 엑셀로 열었을때 한글이 깨졌다면 encoding = 'cp949'를 통해서 파일을 저장하면 한글이 제대로 보일 것이다.\n",
    "* df3.to_csv('result2.csv', encoding ='cp949')"
   ]
  }
 ],
 "metadata": {
  "kernelspec": {
   "display_name": "Python 3 (ipykernel)",
   "language": "python",
   "name": "python3"
  },
  "language_info": {
   "codemirror_mode": {
    "name": "ipython",
    "version": 3
   },
   "file_extension": ".py",
   "mimetype": "text/x-python",
   "name": "python",
   "nbconvert_exporter": "python",
   "pygments_lexer": "ipython3",
   "version": "3.9.7"
  }
 },
 "nbformat": 4,
 "nbformat_minor": 5
}
